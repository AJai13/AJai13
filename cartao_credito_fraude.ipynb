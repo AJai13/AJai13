{
  "nbformat": 4,
  "nbformat_minor": 0,
  "metadata": {
    "colab": {
      "provenance": [],
      "authorship_tag": "ABX9TyMFVamGB4HaIeK7zG0csD+v",
      "include_colab_link": true
    },
    "kernelspec": {
      "name": "python3",
      "display_name": "Python 3"
    },
    "language_info": {
      "name": "python"
    }
  },
  "cells": [
    {
      "cell_type": "markdown",
      "metadata": {
        "id": "view-in-github",
        "colab_type": "text"
      },
      "source": [
        "<a href=\"https://colab.research.google.com/github/AJai13/AJai13/blob/main/cartao_credito_fraude.ipynb\" target=\"_parent\"><img src=\"https://colab.research.google.com/assets/colab-badge.svg\" alt=\"Open In Colab\"/></a>"
      ]
    },
    {
      "cell_type": "markdown",
      "metadata": {
        "id": "d4854a3f"
      },
      "source": [
        "## Carregar os dados\n",
        "\n",
        "Carregar o arquivo CSV fornecido (`/content/creditcard - menor balanceado.csv`) em um DataFrame pandas.\n"
      ]
    },
    {
      "cell_type": "code",
      "metadata": {
        "colab": {
          "base_uri": "https://localhost:8080/"
        },
        "id": "053ea8ff",
        "outputId": "c0d44287-75a5-43e5-af44-03846ae548b2"
      },
      "source": [
        "import pandas as pd\n",
        "\n",
        "df = pd.read_csv('/content/creditcard - menor balanceado.csv')\n",
        "print(df.head().to_markdown(index=False, numalign=\"left\", stralign=\"left\"))"
      ],
      "execution_count": null,
      "outputs": [
        {
          "output_type": "stream",
          "name": "stdout",
          "text": [
            "| Time   | V1         | V2       | V3        | V4         | V5        | V6         | V7        | V8         | V9        | V10       | V11       | V12       | V13        | V14       | V15      | V16        | V17       | V18      | V19       | V20        | V21       | V22       | V23        | V24       | V25       | V26        | V27        | V28        | Amount   | Class   |\n",
            "|:-------|:-----------|:---------|:----------|:-----------|:----------|:-----------|:----------|:-----------|:----------|:----------|:----------|:----------|:-----------|:----------|:---------|:-----------|:----------|:---------|:----------|:-----------|:----------|:----------|:-----------|:----------|:----------|:-----------|:-----------|:-----------|:---------|:--------|\n",
            "| 82450  | 1.31454    | 0.590643 | -0.666593 | 0.716564   | 0.301978  | -1.12547   | 0.388881  | -0.28839   | -0.132137 | -0.597739 | -0.325347 | -0.216435 | 0.0842041  | -1.05463  | 0.967932 | 0.601226   | 0.631117  | 0.295078 | -0.136151 | -0.0580404 | -0.170307 | -0.429655 | -0.141341  | -0.200195 | 0.639491  | 0.399476   | -0.034321  | 0.0316924  | 0.76     | 0       |\n",
            "| 50554  | -0.798672  | 1.18509  | 0.904547  | 0.694584   | 0.219041  | -0.319295  | 0.495236  | 0.139269   | -0.760214 | 0.170547  | 0.821998  | 0.468322  | -0.0575503 | 0.573006  | 0.358688 | -0.0116327 | -0.50457  | 0.72275  | 0.861541  | -0.0812983 | 0.202287  | 0.578699  | -0.092245  | 0.0137229 | -0.246466 | -0.380057  | -0.39603   | -0.112901  | 4.18     | 0       |\n",
            "| 55125  | -0.391128  | -0.24554 | 1.12207   | -1.30873   | -0.639891 | 0.00867805 | -0.701304 | -0.0273152 | -2.62885  | 2.05131   | 0.575866  | -0.594037 | 1.09788    | -0.33834  | 0.617523 | -0.75639   | 0.535141  | 1.0167   | 2.13383   | 0.0657158  | -0.133485 | 0.117403  | -0.191748  | -0.488642 | -0.309774 | 0.00810044 | 0.163716   | 0.239582   | 15       | 0       |\n",
            "| 116572 | -0.0603019 | 1.06509  | -0.987421 | -0.0295669 | 0.176376  | -1.34854   | 0.775644  | 0.134843   | -0.149734 | -1.2386   | -0.841133 | -0.586472 | -0.77962   | -0.436671 | 0.747871 | 0.266437   | 0.703234  | 0.916719 | -0.189967 | -0.169706  | 0.355576  | 0.90757   | -0.0184544 | -0.126269 | -0.339923 | -0.150285  | -0.023634  | 0.0423297  | 57       | 0       |\n",
            "| 90434  | 1.84843    | 0.373364 | 0.269272  | 3.86644    | 0.088062  | 0.970447   | -0.721945 | 0.235983   | 0.683491  | 1.16633   | 1.29753   | -1.92097  | 1.88505    | 1.32323   | -2.04448 | 1.31766    | -0.441076 | 0.804104 | -1.65834  | -0.282777  | 0.103563  | 0.620954  | 0.197077   | 0.692392  | -0.20653  | -0.0213279 | -0.0198228 | -0.0426818 | 0        | 0       |\n"
          ]
        }
      ]
    },
    {
      "cell_type": "markdown",
      "metadata": {
        "id": "30716e5e"
      },
      "source": [
        "## Análise exploratória e pré-processamento\n",
        "\n",
        "Realizar uma análise inicial dos dados para entender a distribuição das classes (fraudulentas vs. não fraudulentas), verificar valores ausentes e outliers, e realizar o pré-processamento necessário.\n"
      ]
    },
    {
      "cell_type": "code",
      "metadata": {
        "colab": {
          "base_uri": "https://localhost:8080/"
        },
        "id": "e0dcdea5",
        "outputId": "e212053a-013e-4234-b579-600737f47766"
      },
      "source": [
        "print(\"Class distribution:\")\n",
        "print(df['Class'].value_counts().to_markdown(numalign=\"left\", stralign=\"left\"))\n",
        "\n",
        "print(\"\\nMissing values:\")\n",
        "print(df.isnull().sum().to_markdown(numalign=\"left\", stralign=\"left\"))\n",
        "\n",
        "from sklearn.preprocessing import StandardScaler\n",
        "\n",
        "scaler = StandardScaler()\n",
        "df[['Time', 'Amount']] = scaler.fit_transform(df[['Time', 'Amount']])\n",
        "\n",
        "print(\"\\nDataFrame after scaling 'Time' and 'Amount':\")\n",
        "print(df.head().to_markdown(index=False, numalign=\"left\", stralign=\"left\"))"
      ],
      "execution_count": null,
      "outputs": [
        {
          "output_type": "stream",
          "name": "stdout",
          "text": [
            "Class distribution:\n",
            "| Class   | count   |\n",
            "|:--------|:--------|\n",
            "| 0       | 1267    |\n",
            "| 1       | 492     |\n",
            "\n",
            "Missing values:\n",
            "|        | 0   |\n",
            "|:-------|:----|\n",
            "| Time   | 0   |\n",
            "| V1     | 0   |\n",
            "| V2     | 0   |\n",
            "| V3     | 0   |\n",
            "| V4     | 0   |\n",
            "| V5     | 0   |\n",
            "| V6     | 0   |\n",
            "| V7     | 0   |\n",
            "| V8     | 0   |\n",
            "| V9     | 0   |\n",
            "| V10    | 0   |\n",
            "| V11    | 0   |\n",
            "| V12    | 0   |\n",
            "| V13    | 0   |\n",
            "| V14    | 0   |\n",
            "| V15    | 0   |\n",
            "| V16    | 0   |\n",
            "| V17    | 0   |\n",
            "| V18    | 0   |\n",
            "| V19    | 0   |\n",
            "| V20    | 0   |\n",
            "| V21    | 0   |\n",
            "| V22    | 0   |\n",
            "| V23    | 0   |\n",
            "| V24    | 0   |\n",
            "| V25    | 0   |\n",
            "| V26    | 0   |\n",
            "| V27    | 0   |\n",
            "| V28    | 0   |\n",
            "| Amount | 0   |\n",
            "| Class  | 0   |\n",
            "\n",
            "DataFrame after scaling 'Time' and 'Amount':\n",
            "| Time       | V1         | V2       | V3        | V4         | V5        | V6         | V7        | V8         | V9        | V10       | V11       | V12       | V13        | V14       | V15      | V16        | V17       | V18      | V19       | V20        | V21       | V22       | V23        | V24       | V25       | V26        | V27        | V28        | Amount    | Class   |\n",
            "|:-----------|:-----------|:---------|:----------|:-----------|:----------|:-----------|:----------|:-----------|:----------|:----------|:----------|:----------|:-----------|:----------|:---------|:-----------|:----------|:---------|:----------|:-----------|:----------|:----------|:-----------|:----------|:----------|:-----------|:-----------|:-----------|:----------|:--------|\n",
            "| -0.177511  | 1.31454    | 0.590643 | -0.666593 | 0.716564   | 0.301978  | -1.12547   | 0.388881  | -0.28839   | -0.132137 | -0.597739 | -0.325347 | -0.216435 | 0.0842041  | -1.05463  | 0.967932 | 0.601226   | 0.631117  | 0.295078 | -0.136151 | -0.0580404 | -0.170307 | -0.429655 | -0.141341  | -0.200195 | 0.639491  | 0.399476   | -0.034321  | 0.0316924  | -0.450574 | 0       |\n",
            "| -0.842191  | -0.798672  | 1.18509  | 0.904547  | 0.694584   | 0.219041  | -0.319295  | 0.495236  | 0.139269   | -0.760214 | 0.170547  | 0.821998  | 0.468322  | -0.0575503 | 0.573006  | 0.358688 | -0.0116327 | -0.50457  | 0.72275  | 0.861541  | -0.0812983 | 0.202287  | 0.578699  | -0.092245  | 0.0137229 | -0.246466 | -0.380057  | -0.39603   | -0.112901  | -0.433784 | 0       |\n",
            "| -0.746936  | -0.391128  | -0.24554 | 1.12207   | -1.30873   | -0.639891 | 0.00867805 | -0.701304 | -0.0273152 | -2.62885  | 2.05131   | 0.575866  | -0.594037 | 1.09788    | -0.33834  | 0.617523 | -0.75639   | 0.535141  | 1.0167   | 2.13383   | 0.0657158  | -0.133485 | 0.117403  | -0.191748  | -0.488642 | -0.309774 | 0.00810044 | 0.163716   | 0.239582   | -0.380664 | 0       |\n",
            "| 0.533557   | -0.0603019 | 1.06509  | -0.987421 | -0.0295669 | 0.176376  | -1.34854   | 0.775644  | 0.134843   | -0.149734 | -1.2386   | -0.841133 | -0.586472 | -0.77962   | -0.436671 | 0.747871 | 0.266437   | 0.703234  | 0.916719 | -0.189967 | -0.169706  | 0.355576  | 0.90757   | -0.0184544 | -0.126269 | -0.339923 | -0.150285  | -0.023634  | 0.0423297  | -0.174469 | 0       |\n",
            "| -0.0111325 | 1.84843    | 0.373364 | 0.269272  | 3.86644    | 0.088062  | 0.970447   | -0.721945 | 0.235983   | 0.683491  | 1.16633   | 1.29753   | -1.92097  | 1.88505    | 1.32323   | -2.04448 | 1.31766    | -0.441076 | 0.804104 | -1.65834  | -0.282777  | 0.103563  | 0.620954  | 0.197077   | 0.692392  | -0.20653  | -0.0213279 | -0.0198228 | -0.0426818 | -0.454305 | 0       |\n"
          ]
        }
      ]
    },
    {
      "cell_type": "markdown",
      "metadata": {
        "id": "bb15db77"
      },
      "source": [
        "## Divisão dos dados\n",
        "\n",
        "Dividir o conjunto de dados em conjuntos de treino e teste.\n"
      ]
    },
    {
      "cell_type": "code",
      "metadata": {
        "colab": {
          "base_uri": "https://localhost:8080/"
        },
        "id": "3ce2c14e",
        "outputId": "aff13959-c16f-4d9d-a354-6633f8fec425"
      },
      "source": [
        "from sklearn.model_selection import train_test_split\n",
        "\n",
        "X = df.drop('Class', axis=1)\n",
        "y = df['Class']\n",
        "\n",
        "X_train, X_test, y_train, y_test = train_test_split(X, y, test_size=0.3, random_state=42, stratify=y)\n",
        "\n",
        "print(\"Shape of X_train:\", X_train.shape)\n",
        "print(\"Shape of X_test:\", X_test.shape)\n",
        "print(\"Shape of y_train:\", y_train.shape)\n",
        "print(\"Shape of y_test:\", y_test.shape)"
      ],
      "execution_count": null,
      "outputs": [
        {
          "output_type": "stream",
          "name": "stdout",
          "text": [
            "Shape of X_train: (1231, 30)\n",
            "Shape of X_test: (528, 30)\n",
            "Shape of y_train: (1231,)\n",
            "Shape of y_test: (528,)\n"
          ]
        }
      ]
    },
    {
      "cell_type": "markdown",
      "metadata": {
        "id": "cbcbb893"
      },
      "source": [
        "## Técnicas de balanceamento (sampling)\n",
        "\n",
        "Aplicar técnicas de balanceamento, como SMOTE, no conjunto de treino para lidar com o desbalanceamento das classes.\n"
      ]
    },
    {
      "cell_type": "code",
      "metadata": {
        "colab": {
          "base_uri": "https://localhost:8080/"
        },
        "id": "f7fff4a1",
        "outputId": "84c09562-de12-4cf5-f234-aae1e90d5585"
      },
      "source": [
        "from imblearn.over_sampling import SMOTE\n",
        "\n",
        "smote = SMOTE(random_state=42)\n",
        "X_resampled, y_resampled = smote.fit_resample(X_train, y_train)\n",
        "\n",
        "print(\"Value counts of the target variable in the resampled training set:\")\n",
        "print(y_resampled.value_counts().to_markdown(numalign=\"left\", stralign=\"left\"))"
      ],
      "execution_count": null,
      "outputs": [
        {
          "output_type": "stream",
          "name": "stdout",
          "text": [
            "Value counts of the target variable in the resampled training set:\n",
            "| Class   | count   |\n",
            "|:--------|:--------|\n",
            "| 0       | 887     |\n",
            "| 1       | 887     |\n"
          ]
        }
      ]
    },
    {
      "cell_type": "markdown",
      "metadata": {
        "id": "9728d3f9"
      },
      "source": [
        "## Seleção de atributos (feature selection)\n",
        "\n",
        "Aplicar técnicas de seleção de atributos para identificar as features mais relevantes para o modelo.\n"
      ]
    },
    {
      "cell_type": "code",
      "metadata": {
        "colab": {
          "base_uri": "https://localhost:8080/"
        },
        "id": "1620c4fd",
        "outputId": "e8e9efdd-cfbf-4ff4-e704-1b1946d9c50b"
      },
      "source": [
        "from sklearn.feature_selection import SelectKBest\n",
        "from sklearn.feature_selection import f_classif\n",
        "\n",
        "selector = SelectKBest(score_func=f_classif, k='all')\n",
        "\n",
        "selector.fit(X_resampled, y_resampled)\n",
        "\n",
        "X_resampled_selected = selector.transform(X_resampled)\n",
        "X_test_selected = selector.transform(X_test)\n",
        "\n",
        "scores = selector.scores_\n",
        "feature_names = X_resampled.columns\n",
        "feature_scores = pd.DataFrame({'Feature': feature_names, 'Score': scores})\n",
        "feature_scores = feature_scores.sort_values(by='Score', ascending=False)\n",
        "\n",
        "print(\"Feature scores:\")\n",
        "print(feature_scores.to_markdown(index=False, numalign=\"left\", stralign=\"left\"))"
      ],
      "execution_count": null,
      "outputs": [
        {
          "output_type": "stream",
          "name": "stdout",
          "text": [
            "Feature scores:\n",
            "| Feature   | Score    |\n",
            "|:----------|:---------|\n",
            "| V14       | 2798.71  |\n",
            "| V4        | 1936.65  |\n",
            "| V11       | 1772.6   |\n",
            "| V12       | 1613.35  |\n",
            "| V10       | 1195.8   |\n",
            "| V16       | 994.547  |\n",
            "| V9        | 906.934  |\n",
            "| V17       | 855.947  |\n",
            "| V3        | 851.194  |\n",
            "| V2        | 645.613  |\n",
            "| V7        | 543.251  |\n",
            "| V18       | 458.737  |\n",
            "| V1        | 415.338  |\n",
            "| V6        | 377.294  |\n",
            "| V5        | 291.983  |\n",
            "| V19       | 145.032  |\n",
            "| V20       | 53.9059  |\n",
            "| V28       | 35.2856  |\n",
            "| V21       | 27.9105  |\n",
            "| V13       | 22.6902  |\n",
            "| Time      | 20.0715  |\n",
            "| V24       | 19.4778  |\n",
            "| V27       | 16.4667  |\n",
            "| V26       | 9.24752  |\n",
            "| V25       | 7.3796   |\n",
            "| V8        | 4.30678  |\n",
            "| V23       | 1.05876  |\n",
            "| V15       | 0.594562 |\n",
            "| V22       | 0.27918  |\n",
            "| Amount    | 0.185692 |\n"
          ]
        }
      ]
    },
    {
      "cell_type": "markdown",
      "metadata": {
        "id": "4f92af9f"
      },
      "source": [
        "## Treinamento do modelo base\n",
        "\n",
        "Treinar um modelo de machine learning inicial.\n"
      ]
    },
    {
      "cell_type": "code",
      "metadata": {
        "colab": {
          "base_uri": "https://localhost:8080/"
        },
        "id": "96f3b27f",
        "outputId": "df6f5a24-f2e0-4c07-cd3f-3af0ae14bf31"
      },
      "source": [
        "from sklearn.ensemble import RandomForestClassifier\n",
        "\n",
        "model = RandomForestClassifier(random_state=42)\n",
        "model.fit(X_resampled_selected, y_resampled)\n",
        "\n",
        "print(\"Model training complete.\")"
      ],
      "execution_count": null,
      "outputs": [
        {
          "output_type": "stream",
          "name": "stdout",
          "text": [
            "Model training complete.\n"
          ]
        }
      ]
    },
    {
      "cell_type": "markdown",
      "metadata": {
        "id": "4880c9c0"
      },
      "source": [
        "## Tuning de hiperparâmetros\n",
        "\n",
        "Otimizar os hiperparâmetros do modelo utilizando técnicas como Grid Search.\n"
      ]
    },
    {
      "cell_type": "code",
      "metadata": {
        "colab": {
          "base_uri": "https://localhost:8080/"
        },
        "id": "3f29bdf3",
        "outputId": "a83ad72c-e273-4955-9a92-8767e45708d9"
      },
      "source": [
        "from sklearn.model_selection import GridSearchCV\n",
        "\n",
        "param_grid = {\n",
        "    'n_estimators': [100, 200, 300],\n",
        "    'max_depth': [10, 20, None],\n",
        "    'min_samples_split': [2, 5, 10],\n",
        "    'min_samples_leaf': [1, 2, 4],\n",
        "    'bootstrap': [True, False]\n",
        "}\n",
        "\n",
        "grid_search = GridSearchCV(estimator=model, param_grid=param_grid, cv=5, scoring='f1_macro', n_jobs=-1)\n",
        "\n",
        "grid_search.fit(X_resampled_selected, y_resampled)\n",
        "\n",
        "best_params = grid_search.best_params_\n",
        "print(\"Best hyperparameters found:\")\n",
        "print(best_params)"
      ],
      "execution_count": null,
      "outputs": [
        {
          "output_type": "stream",
          "name": "stdout",
          "text": [
            "Best hyperparameters found:\n",
            "{'bootstrap': False, 'max_depth': 20, 'min_samples_leaf': 1, 'min_samples_split': 2, 'n_estimators': 200}\n"
          ]
        }
      ]
    },
    {
      "cell_type": "markdown",
      "metadata": {
        "id": "34248bb9"
      },
      "source": [
        "## Ensemble de modelos\n",
        "\n",
        "Combinar vários modelos (Ensemble) para potencialmente melhorar o desempenho.\n"
      ]
    },
    {
      "cell_type": "code",
      "metadata": {
        "id": "bd00a8e7"
      },
      "source": [
        "from sklearn.ensemble import VotingClassifier\n",
        "from sklearn.tree import DecisionTreeClassifier\n",
        "from sklearn.linear_model import LogisticRegression\n",
        "\n",
        "# Define base models\n",
        "estimators = [\n",
        "    ('rf', RandomForestClassifier(random_state=42, **best_params)),\n",
        "    ('dt', DecisionTreeClassifier(random_state=42)),\n",
        "    ('lr', LogisticRegression(random_state=42, solver='liblinear')) # Using liblinear solver for smaller datasets\n",
        "]"
      ],
      "execution_count": null,
      "outputs": []
    },
    {
      "cell_type": "code",
      "metadata": {
        "colab": {
          "base_uri": "https://localhost:8080/"
        },
        "id": "92faec4b",
        "outputId": "a082285a-585c-4051-8fe0-4bb38011f280"
      },
      "source": [
        "ensemble_model = VotingClassifier(estimators=estimators, voting='soft') # Using soft voting for weighted probabilities\n",
        "ensemble_model.fit(X_resampled_selected, y_resampled)\n",
        "\n",
        "print(\"Ensemble model training complete.\")"
      ],
      "execution_count": null,
      "outputs": [
        {
          "output_type": "stream",
          "name": "stdout",
          "text": [
            "Ensemble model training complete.\n"
          ]
        }
      ]
    },
    {
      "cell_type": "markdown",
      "metadata": {
        "id": "039e0ab3"
      },
      "source": [
        "## Avaliação do modelo\n",
        "\n",
        "Avaliar o desempenho do modelo final no conjunto de teste utilizando métricas apropriadas para dados desbalanceados (Acurácia, Macro Avg F1-Score, Matriz de Confusão)."
      ]
    },
    {
      "cell_type": "markdown",
      "metadata": {
        "id": "382eed61"
      },
      "source": [
        "## Visualização da Distribuição de Classes\n",
        "\n",
        "Visualizar a distribuição das classes antes e depois da aplicação do SMOTE."
      ]
    },
    {
      "cell_type": "code",
      "metadata": {
        "colab": {
          "base_uri": "https://localhost:8080/",
          "height": 361
        },
        "id": "2a51fb13",
        "outputId": "59a1efec-1a25-499f-f843-d897ab428da8"
      },
      "source": [
        "import matplotlib.pyplot as plt\n",
        "import seaborn as sns\n",
        "\n",
        "fig, axes = plt.subplots(1, 2, figsize=(12, 5))\n",
        "\n",
        "# Original training data class distribution\n",
        "sns.countplot(x=y_train, ax=axes[0])\n",
        "axes[0].set_title('Distribuição de Classes (Dados de Treino Originais)')\n",
        "axes[0].set_xlabel('Classe')\n",
        "axes[0].set_ylabel('Contagem')\n",
        "axes[0].set_xticks([0, 1])\n",
        "axes[0].set_xticklabels(['Não Fraude', 'Fraude'])\n",
        "\n",
        "# SMOTE resampled data class distribution\n",
        "sns.countplot(x=y_resampled, ax=axes[1])\n",
        "axes[1].set_title('Distribuição de Classes (Dados de Treino Balanceados com SMOTE)')\n",
        "axes[1].set_xlabel('Classe')\n",
        "axes[1].set_ylabel('Contagem')\n",
        "axes[1].set_xticks([0, 1])\n",
        "axes[1].set_xticklabels(['Não Fraude', 'Fraude'])\n",
        "\n",
        "plt.tight_layout()\n",
        "plt.show()"
      ],
      "execution_count": null,
      "outputs": [
        {
          "output_type": "display_data",
          "data": {
            "text/plain": [
              "<Figure size 1200x500 with 2 Axes>"
            ],
            "image/png": "[encoded data removed]"
          },
          "metadata": {}
        }
      ]
    },
    {
      "cell_type": "markdown",
      "metadata": {
        "id": "61635407"
      },
      "source": [
        "## Visualização da Matriz de Confusão\n",
        "\n",
        "Visualizar a matriz de confusão para entender graficamente o desempenho do modelo."
      ]
    },
    {
      "cell_type": "code",
      "metadata": {
        "colab": {
          "base_uri": "https://localhost:8080/",
          "height": 564
        },
        "id": "7cfd3e93",
        "outputId": "6b975ac1-b97d-4886-be39-1a2b347ba45f"
      },
      "source": [
        "import matplotlib.pyplot as plt\n",
        "import seaborn as sns\n",
        "from sklearn.metrics import confusion_matrix\n",
        "\n",
        "conf_matrix = confusion_matrix(y_test, y_pred)\n",
        "\n",
        "plt.figure(figsize=(8, 6))\n",
        "sns.heatmap(conf_matrix, annot=True, fmt='d', cmap='Blues', cbar=False,\n",
        "            xticklabels=['Não Fraude', 'Fraude'], yticklabels=['Não Fraude', 'Fraude'])\n",
        "plt.xlabel('Previsão')\n",
        "plt.ylabel('Real')\n",
        "plt.title('Matriz de Confusão')\n",
        "plt.show()"
      ],
      "execution_count": null,
      "outputs": [
        {
          "output_type": "display_data",
          "data": {
            "text/plain": [
              "<Figure size 800x600 with 1 Axes>"
            ],
            "image/png": "[encoded data removed]"
          },
          "metadata": {}
        }
      ]
    },
    {
      "cell_type": "code",
      "metadata": {
        "id": "5b139a07"
      },
      "source": [
        "from sklearn.metrics import accuracy_score, f1_score, confusion_matrix\n",
        "\n",
        "y_pred = ensemble_model.predict(X_test_selected)"
      ],
      "execution_count": null,
      "outputs": []
    },
    {
      "cell_type": "code",
      "metadata": {
        "colab": {
          "base_uri": "https://localhost:8080/"
        },
        "id": "07008d55",
        "outputId": "4558ebdb-ad0e-402b-fb4a-f06805afc921"
      },
      "source": [
        "accuracy = accuracy_score(y_test, y_pred)\n",
        "macro_f1 = f1_score(y_test, y_pred, average='macro')\n",
        "conf_matrix = confusion_matrix(y_test, y_pred)\n",
        "\n",
        "print(f\"Accuracy: {accuracy:.4f}\")\n",
        "print(f\"Macro Avg F1-Score: {macro_f1:.4f}\")\n",
        "print(\"\\nConfusion Matrix:\")\n",
        "print(conf_matrix)"
      ],
      "execution_count": null,
      "outputs": [
        {
          "output_type": "stream",
          "name": "stdout",
          "text": [
            "Accuracy: 0.9527\n",
            "Macro Avg F1-Score: 0.9405\n",
            "\n",
            "Confusion Matrix:\n",
            "[[371   9]\n",
            " [ 16 132]]\n"
          ]
        }
      ]
    },
    {
      "cell_type": "markdown",
      "metadata": {
        "id": "65f84318"
      },
      "source": [
        "##Resumo e Conclusão:\n",
        "\n",
        "Neste projeto, abordamos o desafio da detecção de transações fraudulentas em um conjunto de dados desbalanceado. Seguimos as etapas de carregamento de dados, análise exploratória e pré-processamento, divisão dos dados, aplicação de técnicas de balanceamento (SMOTE), seleção de atributos (SelectKBest), treinamento de modelo base, tuning de hiperparâmetros (GridSearchCV) e ensemble de modelos (VotingClassifier).\n",
        "\n",
        "O desbalanceamento de classes foi um fator para a aplicação do SMOTE no conjunto de treino, para garantir que o modelo aprendesse os padrões da classe minoritária (fraudes). A seleção de atributos ajudou a focar nas features mais relevantes, reduzindo o ruído e potencialmente melhorando a generalização. O tuning de hiperparâmetros otimizou o modelo base, e o ensemble combinou as forças de diferentes algoritmos para uma decisão final mais robusta.\n",
        "\n",
        "A avaliação do modelo final no conjunto de teste, utilizando métricas como Acurácia (0.9527), Macro Avg F1-Score (0.9405) e a Matriz de Confusão, demonstrou um desempenho promissor. O alto Macro Avg F1-Score e a baixa quantidade de Falsos Negativos (16) na matriz de confusão indicam que o modelo é eficaz em identificar a maioria das transações fraudulentas. Os Falsos Positivos (9) também foram mantidos em um nível razoável, minimizando alertas desnecessários.\n",
        "\n",
        "Em suma, a combinação estratégica das técnicas propostas no plano foi bem-sucedida em construir um modelo capaz de lidar com o desbalanceamento de classes e apresentar um bom desempenho na detecção de fraudes. Este modelo pode ser um ponto de partida sólido para um sistema de detecção de fraudes em produção, embora a melhoria contínua e o monitoramento em tempo real sejam essenciais em um cenário real."
      ]
    },
    {
      "cell_type": "markdown",
      "metadata": {
        "id": "65ee7378"
      },
      "source": [
        "## Análise e Resultados:\n",
        "\n",
        "**Impacto do Desbalanceamento de Classes:**\n",
        "\n",
        "Inicialmente, observamos que o conjunto de dados apresentava um desbalanceamento, com muito mais transações legítimas (Classe 0) do que fraudulentas (Classe 1). Se não for tratado, pode levar a modelos que são bons em prever a classe majoritária, mas falham em identificar a classe minoritária (fraudes).\n",
        "\n",
        "**Técnicas Aplicadas e Contribuições:**\n",
        "\n",
        "1.  **Técnicas de Balanceamento (SMOTE):** O SMOTE no conjunto de treino foi aplicado para mitigar o problema do desbalanceamento. Ao gerar instâncias sintéticas da classe minoritária, o SMOTE ajudou o modelo a aprender melhor os padrões associados às transações fraudulentas, em vez de ser dominado pela classe majoritária. Isso é refletido no desempenho do modelo na identificação de ambas as classes, como visto na matriz de confusão.\n",
        "\n",
        "2.  **Seleção de Atributos (SelectKBest com f_classif):** A seleção de atributos foi para identificar as features mais relevantes para a classificação. Ao focar nos atributos com maior poder discriminatório (conforme indicado pelos scores do f_classif), pudemos reduzir o ruído nos dados de treino e, potencialmente, melhorar a capacidade do modelo de generalizar para dados não vistos. As features com os scores mais altos (V14, V4, V11, V12, etc.) são provavelmente as que mais contribuem para distinguir entre transações fraudulentas e legítimas.\n",
        "\n",
        "3.  **Tuning de Hiperparâmetros (GridSearchCV):** A otimização dos hiperparâmetros do modelo base (RandomForestClassifier) através do GridSearchCV permitiu encontrar a configuração para o nosso conjunto de dados balanceado e com atributos selecionados.\n",
        "\n",
        "4.  **Ensemble de Modelos (VotingClassifier):** A combinação de diferentes modelos (Random Forest, Decision Tree, Logistic Regression) em um Voting Classifier aproveita as forças individuais de cada modelo. O Random Forest, com os hiperparâmetros tunados, provavelmente contribuiu devido à sua capacidade de lidar com a complexidade dos dados e interações entre features. A inclusão de modelos como Decision Tree e Logistic Regression pode ter ajudado a capturar diferentes aspectos dos dados, e a votação suave (soft voting) permitiu ponderar as previsões com base nas probabilidades.\n",
        "\n",
        "**Impacto nas Métricas de Avaliação:**\n",
        "\n",
        "As métricas de avaliação utilizadas (Acurácia, Macro Avg F1-Score, Matriz de Confusão) para dados desbalanceados:\n",
        "\n",
        "*   **Acurácia:** A acurácia de 0.9527 indica que o modelo acertou a previsão em aproximadamente 95.27% dos casos no conjunto de teste. Embora a acurácia possa ser enganosa em dados desbalanceados, neste caso, combinada com as outras métricas, ela sugere um bom desempenho geral.\n",
        "*   **Macro Avg F1-Score:** O Macro Avg F1-Score de 0.9405 é uma métrica mais confiável em dados desbalanceados, pois calcula o F1-Score para cada classe independentemente e depois tira a média. Um valor alto como este indica que o modelo tem um bom equilíbrio entre Precisão e Recall para ambas as classes (fraudulentas e não fraudulentas).\n",
        "*   **Matriz de Confusão:** A matriz de confusão fornece uma visão detalhada dos acertos e erros:\n",
        "    *   Verdadeiros Negativos (TN): 371 transações legítimas foram corretamente identificadas como legítimas.\n",
        "    *   Falsos Positivos (FP): 9 transações legítimas foram incorretamente identificadas como fraudulentas.\n",
        "    *   Falsos Negativos (FN): 16 transações fraudulentas foram incorretamente identificadas como legítimas.\n",
        "    *   Verdadeiros Positivos (TP): 132 transações fraudulentas foram corretamente identificadas como fraudulentas.\n",
        "\n",
        "    A matriz mostra que o modelo conseguiu identificar a grande maioria das transações fraudulentas (TP = 132) com um número relativamente baixo de falsos negativos (FN = 16). Para um sistema de detecção de fraudes, minimizar falsos negativos (fraudes não detectadas) é geralmente mais importante do que minimizar falsos positivos (alertas falsos). O número de falsos positivos (FP = 9) também é relativamente baixo, o que ajuda a reduzir o número de alertas falsos para os usuários.\n",
        "\n"
      ]
    }
  ]
}